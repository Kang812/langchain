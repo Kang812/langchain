{
 "cells": [
  {
   "cell_type": "markdown",
   "metadata": {},
   "source": [
    "#### 1. 패키지 설치"
   ]
  },
  {
   "cell_type": "code",
   "execution_count": null,
   "metadata": {},
   "outputs": [],
   "source": [
    "%pip install -q -U langchain langchain-ollama langgraph"
   ]
  },
  {
   "cell_type": "markdown",
   "metadata": {},
   "source": [
    "#### 로컬 Ollama로 설치한 deepseek-r1 모델과 ExaOne3 모델을 사용하기\n",
    "##### ollama run deepseek-r1:7b\n",
    "##### ollama run exaone3.5"
   ]
  },
  {
   "cell_type": "markdown",
   "metadata": {},
   "source": []
  },
  {
   "cell_type": "markdown",
   "metadata": {},
   "source": [
    "##### 최신버전 LangChain에서는 ChatOllama와 RunnableSequence(prompt | llm) 를 사용"
   ]
  },
  {
   "cell_type": "markdown",
   "metadata": {},
   "source": [
    "##### deepseeek 모델 9.9 와 9.11 크기 비교문제  (영어로 질문, invoke()함수)"
   ]
  },
  {
   "cell_type": "code",
   "execution_count": 1,
   "metadata": {},
   "outputs": [
    {
     "name": "stdout",
     "output_type": "stream",
     "text": [
      "Ollama is running\n"
     ]
    }
   ],
   "source": [
    "import requests\n",
    "\n",
    "response = requests.get(\"http://127.0.0.1:11434\")\n",
    "print(response.text)"
   ]
  },
  {
   "cell_type": "code",
   "execution_count": 2,
   "metadata": {},
   "outputs": [
    {
     "name": "stdout",
     "output_type": "stream",
     "text": [
      "<think>\n",
      "First, I need to compare the two numbers: 9.9 and 9.11.\n",
      "\n",
      "Both numbers have the same whole number part, which is 9.\n",
      "\n",
      "To make an accurate comparison, I'll consider their decimal parts.\n",
      "\n",
      "In 9.9, the decimal part is .9, while in 9.11, it's .11.\n",
      "\n",
      "Since .9 is equivalent to .90, comparing .90 and .11 shows that .90 is larger than .11.\n",
      "\n",
      "Therefore, 9.9 is greater than 9.11.\n",
      "</think>\n",
      "\n",
      "To determine which number is larger between **9.9** and **9.11**, follow these steps:\n",
      "\n",
      "1. **Compare the Whole Numbers:**\n",
      "   - Both numbers have the same whole number part, which is **9**.\n",
      "\n",
      "2. **Compare the Decimal Parts:**\n",
      "   - **9.9** has a decimal part of **0.9**.\n",
      "   - **9.11** has a decimal part of **0.11**.\n",
      "\n",
      "3. **Convert to Equal Decimal Places for Comparison:**\n",
      "   - To make comparison easier, write both decimals with two places:\n",
      "     - **9.9** becomes **9.90**\n",
      "     - **9.11** remains **9.11**\n",
      "\n",
      "4. **Compare the Converted Decimals:**\n",
      "   - Compare **9.90** and **9.11**.\n",
      "   - Since **9.90 > 9.11**, it follows that **9.9 > 9.11**.\n",
      "\n",
      "5. **Conclusion:**\n",
      "   \n",
      "\\[\n",
      "\\boxed{9.9 \\text{ is bigger than } 9.11}\n",
      "\\]\n"
     ]
    }
   ],
   "source": [
    "from langchain_ollama import ChatOllama\n",
    "\n",
    "try:\n",
    "    deepseek = ChatOllama(model=\"deepseek-r1:1.5b\", temperature=0.5)    # 모델 호출\n",
    "    response = deepseek.invoke(\"which is bigger between 9.9 and 9.11?\")\n",
    "    print(response.content)\n",
    "except Exception as e:\n",
    "    print(f\"Error: {e}\")"
   ]
  },
  {
   "cell_type": "markdown",
   "metadata": {},
   "source": [
    "##### exaone3.4 모델 9.9 와 9.11 크기 비교문제  (한글로 질문, invoke()함수)"
   ]
  },
  {
   "cell_type": "code",
   "execution_count": 17,
   "metadata": {},
   "outputs": [
    {
     "name": "stdout",
     "output_type": "stream",
     "text": [
      "9.9와 9.11 중에서 더 큰 수는 9.9입니다.\n",
      "\n",
      "이 두 숫자를 비교하기 위해선, 소수점 아래의 자릿수에 대한 규칙을 기억하는 것이 중요합니다:\n",
      "\n",
      "1. 소수점 아래의 가장 작은 자리가 0일 때:\n",
      "   - 9.9 > 9.11\n",
      "\n",
      "2. 소수점 아래의 가장 큰 자리가 1일 때:\n",
      "   - 9.9 < 9.11\n",
      "\n",
      "3. 다른 경우는 항상 더 큰 숫자를 가집니다.\n",
      "\n",
      "따라서, 9.9와 9.11 사이에는 0.8의 차이가 있습니다. 이는 9.9보다 9.11에 더 크다는 것을 의미합니다.\n",
      "\n",
      "따라서, 9.9 > 9.11입니다.\n"
     ]
    }
   ],
   "source": [
    "from langchain_ollama import ChatOllama\n",
    "\n",
    "try:\n",
    "    qwen = ChatOllama(model=\"qwen2.5:1.5b\", temperature=0.3, n_gpu_layers=0, batch_size=128)\n",
    "    #exaone = ChatOllama(model=\"exaone3.5:2.4b\", temperature=0.5)\n",
    "    # 모델 호출\n",
    "    response = qwen.invoke(\"9.9와 9.11 중 무엇이 더 큰가요?\")\n",
    "    print(response.content)\n",
    "except Exception as e:\n",
    "    print(f\"Error: {e}\")"
   ]
  },
  {
   "cell_type": "markdown",
   "metadata": {},
   "source": [
    "##### deepseeek 모델 9.9 와 9.11 크기 비교문제  (영어로 질문, stream()함수)"
   ]
  },
  {
   "cell_type": "code",
   "execution_count": 12,
   "metadata": {
    "scrolled": true
   },
   "outputs": [
    {
     "name": "stdout",
     "output_type": "stream",
     "text": [
      "<think>\n",
      "First, I need to compare the two numbers: 9.9 and 9.11.\n",
      "\n",
      "I'll start by aligning their decimal places. To make a fair comparison, I can write 9.9 as 9.90.\n",
      "\n",
      "Now, both numbers have the same whole number part, which is 9.\n",
      "\n",
      "Next, I'll compare the tenths place. In 9.90, the tenths digit is 9, while in 9.11, it's 1. Since 9 is greater than 1, 9.90 is larger than 9.11.\n",
      "\n",
      "Therefore, 9.9 is bigger than 9.11.\n",
      "</think>\n",
      "\n",
      "To determine which number is larger between **9.9** and **9.11**, let's compare them step by step.\n",
      "\n",
      "### Step 1: Align the Decimal Places\n",
      "First, it's helpful to write both numbers with the same number of decimal places for a clear comparison:\n",
      "\n",
      "- **9.9** can be written as **9.90**\n",
      "- **9.11** remains **9.11**\n",
      "\n",
      "### Step 2: Compare Digit by Digit\n",
      "Now, compare each corresponding digit from left to right.\n",
      "\n",
      "| Place Value | 9.90 | 9.11 |\n",
      "|-------------|------|------|\n",
      "| Ones        | 9    | 9    |\n",
      "| Tenths      | 9    | 1    |\n",
      "| Hundredths  | 0    | 1    |\n",
      "\n",
      "- **Ones place:** Both numbers have a **9**.\n",
      "- **Tenths place:** In **9.90**, the tenths digit is **9**, while in **9.11**, it's **1**.\n",
      "\n",
      "Since **9 > 1**, the tenths digit of **9.90** is greater than that of **9.11**.\n",
      "\n",
      "### Step 3: Conclusion\n",
      "Because the tenths place differs and **9.90** has a larger value there, we can conclude:\n",
      "\n",
      "\\[\n",
      "\\boxed{9.9 > 9.11}\n",
      "\\]"
     ]
    }
   ],
   "source": [
    "from IPython.display import display, Markdown\n",
    "from langchain_ollama import ChatOllama\n",
    "\n",
    "deepseek = ChatOllama(model=\"deepseek-r1:1.5b\", temperature=0.5)\n",
    "\n",
    "answer = []\n",
    "for chunk in deepseek.stream(\"which is bigger between 9.9 and 9.11?\"):\n",
    "    answer.append(chunk.content)\n",
    "    print(chunk.content, end=\"\", flush=True)\n"
   ]
  },
  {
   "cell_type": "code",
   "execution_count": null,
   "metadata": {},
   "outputs": [],
   "source": [
    "\n",
    "answer_md=''.join([i for i in answer])\n",
    "display(Markdown(answer_md))"
   ]
  },
  {
   "cell_type": "markdown",
   "metadata": {},
   "source": [
    "##### deepseeek 모델 9.9 와 9.11 크기 비교문제  (한글로 질문, stream()함수)"
   ]
  },
  {
   "cell_type": "code",
   "execution_count": null,
   "metadata": {},
   "outputs": [],
   "source": [
    "from IPython.display import display, Markdown\n",
    "from langchain_ollama import ChatOllama\n",
    "\n",
    "deepseek = ChatOllama(model=\"deepseek-r1:1.5b\", temperature=0.5)\n",
    "\n",
    "answer = []\n",
    "for chunk in deepseek.stream(\"9.9와 9.11 중 무엇이 더 큰가요?\"):\n",
    "    answer.append(chunk.content)\n",
    "    print(chunk.content, end=\"\", flush=True)\n",
    "\n",
    "answer_md=''.join([i for i in answer])\n",
    "display(Markdown(answer_md))"
   ]
  },
  {
   "cell_type": "markdown",
   "metadata": {},
   "source": [
    "##### Exaone 모델 9.9 와 9.11 크기 비교문제  (한글로 질문, stream()함수)"
   ]
  },
  {
   "cell_type": "code",
   "execution_count": null,
   "metadata": {},
   "outputs": [],
   "source": [
    "from langchain_ollama import ChatOllama\n",
    "\n",
    "#model = ChatOllama(model=\"exaone3.5:2.4b\", temperature=0.5)\n",
    "model = ChatOllama(model=\"qwen2.5:1.5b\", temperature=0.5)\n",
    "\n",
    "answer = []\n",
    "for chunk in model.stream(\"9.9와 9.11 중 무엇이 더 큰가요?\"):\n",
    "    answer.append(chunk.content)\n",
    "    print(chunk.content, end=\"\", flush=True)\n",
    "\n",
    "answer_md=''.join([i for i in answer])\n",
    "display(Markdown(answer_md))\n"
   ]
  },
  {
   "cell_type": "markdown",
   "metadata": {},
   "source": [
    "#### DeepSeek의 추론 능력과 ExaOne의 한글 생성 능력 결합하기\n",
    "* DeepSeek는 태그 안에서 이루어지는 추론을 기반으로 다른 LLM 대비 높은 성능을 발휘합니다.\n",
    "* 하지만 Ollama에서 제공하는 deepseek r1-distill-qwen 모델은 한국어 생성 능력이 부족합니다.\n",
    "* DeepSeek의 추론 능력과 ExaOne의 한글 생성 능력 결합해 보겠습니다."
   ]
  },
  {
   "cell_type": "code",
   "execution_count": 1,
   "metadata": {},
   "outputs": [
    {
     "name": "stdout",
     "output_type": "stream",
     "text": [
      "model='deepseek-r1:1.5b' temperature=0.0 stop=['</think>']\n"
     ]
    }
   ],
   "source": [
    "from langchain_ollama import ChatOllama\n",
    "\n",
    "reasoning_model = ChatOllama(model=\"deepseek-r1:1.5b\", temperature=0, stop=[\"</think>\"])\n",
    "print(reasoning_model)"
   ]
  },
  {
   "cell_type": "code",
   "execution_count": 2,
   "metadata": {},
   "outputs": [
    {
     "name": "stdout",
     "output_type": "stream",
     "text": [
      "model='qwen2.5:1.5b' temperature=0.7\n"
     ]
    }
   ],
   "source": [
    "#generation_model = ChatOllama(model=\"exaone3.5:2.4b\", temperature=0.7)\n",
    "generation_model = ChatOllama(model=\"qwen2.5:1.5b\", temperature=0.7)\n",
    "print(generation_model)"
   ]
  },
  {
   "cell_type": "markdown",
   "metadata": {},
   "source": [
    "#### LangGraph 로 연결하기"
   ]
  },
  {
   "cell_type": "code",
   "execution_count": 3,
   "metadata": {},
   "outputs": [
    {
     "name": "stdout",
     "output_type": "stream",
     "text": [
      "input_variables=['question', 'thinking'] input_types={} partial_variables={} messages=[SystemMessagePromptTemplate(prompt=PromptTemplate(input_variables=[], input_types={}, partial_variables={}, template='\\n        당신은 사용자의 질문에 대해 명확하고 포괄적인 답변을 제공하는 AI 어시스턴트입니다.\\n\\n        당신의 작업은 다음과 같습니다:\\n        - 질문과 제공된 추론을 신중하게 분석하세요.\\n        - 추론에서 얻은 통찰력을 포함하여 잘 구조화된 답변을 생성하세요.\\n        - 답변이 사용자의 질문에 직접적으로 대응하도록 하세요.\\n        - 정보를 명확하고 자연스럽게 전달하되, 추론 과정을 명시적으로 언급하지 마세요.\\n\\n        지침:\\n        - 답변을 대화 형식으로 작성하고, 흥미롭게 전달하세요.\\n        - 중요한 포인트를 모두 다루면서도 명확하고 간결하게 작성하세요.\\n        - 제공된 추론을 사용한다는 것을 언급하지 말고, 그 통찰력을 자연스럽게 포함시키세요.\\n        - 도움이 되고 전문적인 톤을 유지하세요.\\n\\n        목표: 사용자의 질문에 직접적으로 대응하면서 추론 과정에서 얻은 통찰력을 자연스럽게 포함한 정보 제공입니다.\\n        '), additional_kwargs={}), HumanMessagePromptTemplate(prompt=PromptTemplate(input_variables=['question', 'thinking'], input_types={}, partial_variables={}, template='\\n        질문: {question}\\n        추론: {thinking}\\n        '), additional_kwargs={})]\n"
     ]
    }
   ],
   "source": [
    "from langgraph.graph import START, StateGraph\n",
    "from typing_extensions import TypedDict\n",
    "from langchain_core.prompts import ChatPromptTemplate\n",
    "\n",
    "#LangGraph에서 State 사용자정의 클래스는 노드 간의 정보를 전달하는 틀입니다. \n",
    "#노드 간에 계속 전달하고 싶거나, 그래프 내에서 유지해야 할 정보를 미리 정의힙니다. \n",
    "class State(TypedDict):\n",
    "    question: str\n",
    "    thinking: str\n",
    "    answer: str\n",
    "\n",
    "answer_prompt = ChatPromptTemplate([\n",
    "    (\n",
    "        \"system\",\n",
    "        \"\"\"\n",
    "        당신은 사용자의 질문에 대해 명확하고 포괄적인 답변을 제공하는 AI 어시스턴트입니다.\n",
    "\n",
    "        당신의 작업은 다음과 같습니다:\n",
    "        - 질문과 제공된 추론을 신중하게 분석하세요.\n",
    "        - 추론에서 얻은 통찰력을 포함하여 잘 구조화된 답변을 생성하세요.\n",
    "        - 답변이 사용자의 질문에 직접적으로 대응하도록 하세요.\n",
    "        - 정보를 명확하고 자연스럽게 전달하되, 추론 과정을 명시적으로 언급하지 마세요.\n",
    "\n",
    "        지침:\n",
    "        - 답변을 대화 형식으로 작성하고, 흥미롭게 전달하세요.\n",
    "        - 중요한 포인트를 모두 다루면서도 명확하고 간결하게 작성하세요.\n",
    "        - 제공된 추론을 사용한다는 것을 언급하지 말고, 그 통찰력을 자연스럽게 포함시키세요.\n",
    "        - 도움이 되고 전문적인 톤을 유지하세요.\n",
    "\n",
    "        목표: 사용자의 질문에 직접적으로 대응하면서 추론 과정에서 얻은 통찰력을 자연스럽게 포함한 정보 제공입니다.\n",
    "        \"\"\"\n",
    "    ),\n",
    "    (\n",
    "        \"human\",\n",
    "        \"\"\"\n",
    "        질문: {question}\n",
    "        추론: {thinking}\n",
    "        \"\"\"\n",
    "    )\n",
    "])\n",
    "print(answer_prompt)"
   ]
  },
  {
   "cell_type": "code",
   "execution_count": null,
   "metadata": {},
   "outputs": [
    {
     "name": "stdout",
     "output_type": "stream",
     "text": [
      "<class 'langgraph.graph.state.StateGraph'>\n",
      "<class 'langgraph.graph.state.CompiledStateGraph'>\n"
     ]
    }
   ],
   "source": [
    "#DeepSeek를 통해서 추론 부분까지만 생성합니다. (node)\n",
    "# 딥식의 수행한 결과를 thinking 부분으로 줌\n",
    "# 이후 generation 모델에 prompt에 tinking 부분에 딥식 결과를 넣고 \n",
    "# answer 부분에 qwen의 답변의 결과를 넣어 줌\n",
    "\n",
    "def think(state: State):\n",
    "    question = state[\"question\"]\n",
    "    response = reasoning_model.invoke(question)\n",
    "    #print(response.content)\n",
    "    return {\"thinking\": response.content}\n",
    "\n",
    "#Qwen를 통해서 결과 출력 부분을 생성합니다.\n",
    "def generate(state: State):\n",
    "    messages = answer_prompt.invoke({\"question\": state[\"question\"], \"thinking\": state[\"thinking\"]})\n",
    "    response = generation_model.invoke(messages)\n",
    "    print(response.content)\n",
    "    return {\"answer\": response.content}\n",
    "\n",
    "# 그래프 컴파일\n",
    "graph_builder = StateGraph(State).add_sequence([think, generate]) # 함수 처리 순서 think 함수를 먼저 처리\n",
    "graph_builder.add_edge(START, \"think\") # 연결하는 거 tinking 추론하는 것 부터 수행,  연결되는 중간 값이 think 부분이 연결이 됨\n",
    "print(type(graph_builder))\n",
    "graph = graph_builder.compile()\n",
    "print(type(graph))"
   ]
  },
  {
   "cell_type": "code",
   "execution_count": 9,
   "metadata": {},
   "outputs": [
    {
     "name": "stdout",
     "output_type": "stream",
     "text": [
      "9.9 is greater than 9.11 because even though they have the same whole number part (9), the decimal part shows a clear difference. The tenth place in 9.90 is 9, which is greater than 1 in the tenths place of 9.11, making 9.90 greater than 9.11.\n",
      "\n",
      "To break it down further:\n",
      "- Both numbers have the same whole number part: 9.\n",
      "- The decimal places show a comparison: 9.90 vs 9.11.\n",
      "- In the tenths place, 9 is larger than 1 in 9.11.\n",
      "\n",
      "Therefore, 9.9 is greater than 9.11 because of this clear distinction in the tenths place.\n",
      "{'question': '9.9와 9.11 중 무엇이 더 큰가요?', 'thinking': \"<think>\\nFirst, I need to compare the two numbers: 9.9 and 9.11.\\n\\nBoth numbers have the same whole number part, which is 9.\\n\\nTo make a fair comparison, I'll align them by adding an extra decimal place to 9.9, making it 9.90.\\n\\nNow, both numbers are 9.90 and 9.11.\\n\\nComparing each digit from left to right:\\n\\n- The whole number part is the same (9).\\n- In the tenths place, 9 is greater than 1.\\n  \\nSince 9 in the tenths place of 9.90 is larger than 1 in the tenths place of 9.11, it follows that 9.90 is greater than 9.11.\\n\\nTherefore, 9.9 is greater than 9.11.\\n\", 'answer': '9.9 is greater than 9.11 because even though they have the same whole number part (9), the decimal part shows a clear difference. The tenth place in 9.90 is 9, which is greater than 1 in the tenths place of 9.11, making 9.90 greater than 9.11.\\n\\nTo break it down further:\\n- Both numbers have the same whole number part: 9.\\n- The decimal places show a comparison: 9.90 vs 9.11.\\n- In the tenths place, 9 is larger than 1 in 9.11.\\n\\nTherefore, 9.9 is greater than 9.11 because of this clear distinction in the tenths place.'}\n",
      "==> 생성된 답변: \n",
      "\n",
      "9.9 is greater than 9.11 because even though they have the same whole number part (9), the decimal part shows a clear difference. The tenth place in 9.90 is 9, which is greater than 1 in the tenths place of 9.11, making 9.90 greater than 9.11.\n",
      "\n",
      "To break it down further:\n",
      "- Both numbers have the same whole number part: 9.\n",
      "- The decimal places show a comparison: 9.90 vs 9.11.\n",
      "- In the tenths place, 9 is larger than 1 in 9.11.\n",
      "\n",
      "Therefore, 9.9 is greater than 9.11 because of this clear distinction in the tenths place.\n"
     ]
    }
   ],
   "source": [
    "\n",
    "# 입력 데이터\n",
    "inputs = {\"question\": \"9.9와 9.11 중 무엇이 더 큰가요?\"}\n",
    "\n",
    "# invoke()를 사용하여 그래프 호출\n",
    "result = graph.invoke(inputs)\n",
    "print(result)\n",
    "\n",
    "# 결과 출력\n",
    "print(\"==> 생성된 답변: \\n\")\n",
    "print(result[\"answer\"])"
   ]
  },
  {
   "cell_type": "code",
   "execution_count": 10,
   "metadata": {},
   "outputs": [
    {
     "name": "stdout",
     "output_type": "stream",
     "text": [
      "==================================================\n",
      "LangGraph 실행 시작\n",
      "==================================================\n",
      "[DEBUG] 입력 질문: 9.9와 9.11 중 무엇이 더 큰가요?\n",
      "[DEBUG] 질문 타입: <class 'str'>\n",
      "[DEBUG] 추론 결과 타입: <class 'str'>\n",
      "[DEBUG] 추론 결과 길이: 556\n",
      "[DEBUG] 추론 결과 미리보기: <think>\n",
      "First, I need to compare the two numbers: 9.9 and 9.11.\n",
      "\n",
      "Both numbers have the same whole number part, which is 9.\n",
      "\n",
      "To make a fair comparison, I'll align them by adding an extra decimal place ...\n",
      "[DEBUG] generate 함수 - 질문: 9.9와 9.11 중 무엇이 더 큰가요?\n",
      "[DEBUG] generate 함수 - 추론 길이: 556\n",
      "[DEBUG] generate 함수 - 추론 미리보기: <think>\n",
      "First, I need to compare the two numbers: 9.9 and 9.11.\n",
      "\n",
      "Both numbers have the same whole number part, which is 9.\n",
      "\n",
      "To make a fair comparison, I'll align them by adding an extra decimal place ...\n",
      "[DEBUG] 프롬프트 메시지 생성 완료\n",
      "[DEBUG] 최종 응답 타입: <class 'str'>\n",
      "[DEBUG] 최종 응답 길이: 349\n",
      "[DEBUG] 최종 응답 내용: 이 질문의 추론 과정과 결과를 정확하게 이해하고 설명하겠습니다:\n",
      "\n",
      "먼저, 두 숫자인 9.9와 9.11가 무엇보다 크는지 비교해야 합니다.\n",
      "\n",
      "먼저, 이 숫자들을 모두 다룰 수 있도록 하여, 9.9을 9.90으로 변환합니다. 이렇게 해서 9.9과 9.11를 정확하게 비교할 수 있습니다.\n",
      "\n",
      "이제 두 숫자가 9.90과 9.11로 나타납니다.\n",
      "\n",
      "다음은 각 자리에서 숫자를 비교하는 순서입니다:\n",
      "\n",
      "- 전체 소수부는 동일합니다 (9).\n",
      "- 십분자 부에서 보면, 9.90에서는 9보다 크지만, 9.11에서는 1이 더 큽니다.\n",
      "\n",
      "따라서 9.90이 9.11보다 큰 것을 알 수 있습니다.\n",
      "\n",
      "따라서, 9.9는 9.11보다 더大きな 숫자입니다.\n",
      "==================================================\n",
      "실행 결과\n",
      "==================================================\n",
      "전체 결과: {'question': '9.9와 9.11 중 무엇이 더 큰가요?', 'thinking': \"<think>\\nFirst, I need to compare the two numbers: 9.9 and 9.11.\\n\\nBoth numbers have the same whole number part, which is 9.\\n\\nTo make a fair comparison, I'll align them by adding an extra decimal place to 9.9, making it 9.90.\\n\\nNow, both numbers are 9.90 and 9.11.\\n\\nComparing each digit from left to right:\\n\\n- The whole number part is the same (9).\\n- In the tenths place, 9 is greater than 1.\\n  \\nSince 9 in the tenths place of 9.90 is larger than 1 in the tenths place of 9.11, it follows that 9.90 is greater than 9.11.\\n\\nTherefore, 9.9 is greater than 9.11.\\n\", 'answer': '이 질문의 추론 과정과 결과를 정확하게 이해하고 설명하겠습니다:\\n\\n먼저, 두 숫자인 9.9와 9.11가 무엇보다 크는지 비교해야 합니다.\\n\\n먼저, 이 숫자들을 모두 다룰 수 있도록 하여, 9.9을 9.90으로 변환합니다. 이렇게 해서 9.9과 9.11를 정확하게 비교할 수 있습니다.\\n\\n이제 두 숫자가 9.90과 9.11로 나타납니다.\\n\\n다음은 각 자리에서 숫자를 비교하는 순서입니다:\\n\\n- 전체 소수부는 동일합니다 (9).\\n- 십분자 부에서 보면, 9.90에서는 9보다 크지만, 9.11에서는 1이 더 큽니다.\\n\\n따라서 9.90이 9.11보다 큰 것을 알 수 있습니다.\\n\\n따라서, 9.9는 9.11보다 더大きな 숫자입니다.'}\n",
      "최종 답변: 이 질문의 추론 과정과 결과를 정확하게 이해하고 설명하겠습니다:\n",
      "\n",
      "먼저, 두 숫자인 9.9와 9.11가 무엇보다 크는지 비교해야 합니다.\n",
      "\n",
      "먼저, 이 숫자들을 모두 다룰 수 있도록 하여, 9.9을 9.90으로 변환합니다. 이렇게 해서 9.9과 9.11를 정확하게 비교할 수 있습니다.\n",
      "\n",
      "이제 두 숫자가 9.90과 9.11로 나타납니다.\n",
      "\n",
      "다음은 각 자리에서 숫자를 비교하는 순서입니다:\n",
      "\n",
      "- 전체 소수부는 동일합니다 (9).\n",
      "- 십분자 부에서 보면, 9.90에서는 9보다 크지만, 9.11에서는 1이 더 큽니다.\n",
      "\n",
      "따라서 9.90이 9.11보다 큰 것을 알 수 있습니다.\n",
      "\n",
      "따라서, 9.9는 9.11보다 더大きな 숫자입니다.\n"
     ]
    }
   ],
   "source": [
    "import os\n",
    "import sys\n",
    "from langchain_ollama import ChatOllama\n",
    "from langgraph.graph import START, StateGraph\n",
    "from typing_extensions import List, TypedDict\n",
    "from langchain_core.prompts import ChatPromptTemplate\n",
    "\n",
    "# UTF-8 인코딩 강제 설정 (Jupyter 노트북 호환)\n",
    "os.environ['PYTHONIOENCODING'] = 'utf-8'\n",
    "os.environ['LANG'] = 'ko_KR.UTF-8'\n",
    "os.environ['LC_ALL'] = 'ko_KR.UTF-8'\n",
    "\n",
    "# Jupyter 환경에서는 reconfigure 대신 환경변수로 처리\n",
    "try:\n",
    "    if hasattr(sys.stdout, 'reconfigure') and sys.stdout.encoding != 'utf-8':\n",
    "        sys.stdout.reconfigure(encoding='utf-8')\n",
    "except (AttributeError, OSError):\n",
    "    # Jupyter 노트북이나 다른 환경에서는 패스\n",
    "    pass\n",
    "\n",
    "# 모델 초기화 - 한글 처리 개선\n",
    "reasoning_model = ChatOllama(\n",
    "    model=\"deepseek-r1:1.5b\", \n",
    "    temperature=0, \n",
    "    stop=[\"</think>\"]\n",
    ")\n",
    "\n",
    "generation_model = ChatOllama(\n",
    "    model=\"qwen2.5:1.5b\", \n",
    "    temperature=0.7\n",
    ")\n",
    "\n",
    "# LangGraph State 정의\n",
    "class State(TypedDict):\n",
    "    question: str\n",
    "    thinking: str\n",
    "    answer: str\n",
    "\n",
    "# 개선된 프롬프트 템플릿\n",
    "answer_prompt = ChatPromptTemplate([\n",
    "    (\n",
    "        \"system\",\n",
    "        \"\"\"당신은 한국어로 응답하는 AI 어시스턴트입니다. \n",
    "        반드시 한국어로만 답변하세요.\n",
    "        \n",
    "        당신의 작업:\n",
    "        - 질문과 제공된 추론을 신중하게 분석하세요.\n",
    "        - 추론에서 얻은 통찰력을 포함하여 잘 구조화된 한국어 답변을 생성하세요.\n",
    "        - 답변이 사용자의 질문에 직접적으로 대응하도록 하세요.\n",
    "        - 정보를 명확하고 자연스럽게 전달하되, 추론 과정을 명시적으로 언급하지 마세요.\n",
    "        \n",
    "        지침:\n",
    "        - 답변을 대화 형식으로 작성하고, 흥미롭게 전달하세요.\n",
    "        - 중요한 포인트를 모두 다루면서도 명확하고 간결하게 작성하세요.\n",
    "        - 제공된 추론을 사용한다는 것을 언급하지 말고, 그 통찰력을 자연스럽게 포함시키세요.\n",
    "        - 도움이 되고 전문적인 톤을 유지하세요.\n",
    "        \n",
    "        중요: 반드시 한국어로만 응답하세요.\"\"\"\n",
    "    ),\n",
    "    (\n",
    "        \"human\",\n",
    "        \"\"\"질문: {question}\n",
    "        \n",
    "        추론 과정: {thinking}\n",
    "        \n",
    "        위 내용을 바탕으로 한국어로 답변해주세요:\"\"\"\n",
    "    )\n",
    "])\n",
    "\n",
    "def ensure_utf8_string(text):\n",
    "    \"\"\"문자열이 UTF-8로 제대로 인코딩되었는지 확인하고 변환\"\"\"\n",
    "    if text is None:\n",
    "        return \"\"\n",
    "    if isinstance(text, bytes):\n",
    "        return text.decode('utf-8', errors='ignore')\n",
    "    return str(text)\n",
    "\n",
    "# DeepSeek를 통해서 추론 부분까지만 생성\n",
    "def think(state: State):\n",
    "    question = state[\"question\"]\n",
    "    print(f\"[DEBUG] 입력 질문: {question}\")\n",
    "    print(f\"[DEBUG] 질문 타입: {type(question)}\")\n",
    "    \n",
    "    response = reasoning_model.invoke(question)\n",
    "    thinking_content = ensure_utf8_string(response.content)\n",
    "    \n",
    "    print(f\"[DEBUG] 추론 결과 타입: {type(response.content)}\")\n",
    "    print(f\"[DEBUG] 추론 결과 길이: {len(thinking_content)}\")\n",
    "    print(f\"[DEBUG] 추론 결과 미리보기: {thinking_content[:200]}...\")\n",
    "    \n",
    "    return {\"thinking\": thinking_content}\n",
    "\n",
    "# qwen2.5를 통해서 결과 출력 부분을 생성\n",
    "def generate(state: State):\n",
    "    question = ensure_utf8_string(state[\"question\"])\n",
    "    thinking = ensure_utf8_string(state[\"thinking\"])\n",
    "    \n",
    "    print(f\"[DEBUG] generate 함수 - 질문: {question}\")\n",
    "    print(f\"[DEBUG] generate 함수 - 추론 길이: {len(thinking)}\")\n",
    "    print(f\"[DEBUG] generate 함수 - 추론 미리보기: {thinking[:200]}...\")\n",
    "    \n",
    "    messages = answer_prompt.invoke({\n",
    "        \"question\": question, \n",
    "        \"thinking\": thinking\n",
    "    })\n",
    "    \n",
    "    print(f\"[DEBUG] 프롬프트 메시지 생성 완료\")\n",
    "    \n",
    "    response = generation_model.invoke(messages)\n",
    "    answer_content = ensure_utf8_string(response.content)\n",
    "    \n",
    "    print(f\"[DEBUG] 최종 응답 타입: {type(response.content)}\")\n",
    "    print(f\"[DEBUG] 최종 응답 길이: {len(answer_content)}\")\n",
    "    print(f\"[DEBUG] 최종 응답 내용: {answer_content}\")\n",
    "    \n",
    "    return {\"answer\": answer_content}\n",
    "\n",
    "# 그래프 구성 및 컴파일\n",
    "graph_builder = StateGraph(State).add_sequence([think, generate])\n",
    "graph_builder.add_edge(START, \"think\")\n",
    "graph = graph_builder.compile()\n",
    "\n",
    "def main():\n",
    "    # 입력 데이터\n",
    "    inputs = {\"question\": \"9.9와 9.11 중 무엇이 더 큰가요?\"}\n",
    "    \n",
    "    print(\"=\"*50)\n",
    "    print(\"LangGraph 실행 시작\")\n",
    "    print(\"=\"*50)\n",
    "    \n",
    "    try:\n",
    "        # invoke()를 사용하여 그래프 호출\n",
    "        result = graph.invoke(inputs)\n",
    "        \n",
    "        print(\"=\"*50)\n",
    "        print(\"실행 결과\")\n",
    "        print(\"=\"*50)\n",
    "        print(f\"전체 결과: {result}\")\n",
    "        print(f\"최종 답변: {result.get('answer', '답변 없음')}\")\n",
    "        \n",
    "    except Exception as e:\n",
    "        print(f\"오류 발생: {e}\")\n",
    "        import traceback\n",
    "        traceback.print_exc()\n",
    "\n",
    "if __name__ == \"__main__\":\n",
    "    main()"
   ]
  },
  {
   "cell_type": "code",
   "execution_count": 11,
   "metadata": {},
   "outputs": [
    {
     "data": {
      "image/png": "[encoded data removed]",
      "text/plain": [
       "<IPython.core.display.Image object>"
      ]
     },
     "metadata": {},
     "output_type": "display_data"
    }
   ],
   "source": [
    "from IPython.display import Image, display\n",
    "from langchain_core.runnables.graph import CurveStyle, MermaidDrawMethod, NodeStyles\n",
    "\n",
    "display(\n",
    "    Image(\n",
    "        graph.get_graph().draw_mermaid_png(draw_method=MermaidDrawMethod.API)        \n",
    "    )\n",
    ")"
   ]
  },
  {
   "cell_type": "code",
   "execution_count": null,
   "metadata": {},
   "outputs": [],
   "source": [
    "inputs = {\"question\": \"9.9와 9.11 중 무엇이 더 큰가요?\"}\n",
    "\n",
    "async for event in graph.astream_events(inputs, version=\"v2\"):\n",
    "    kind = event[\"event\"]\n",
    "    if kind == \"on_chat_model_stream\":\n",
    "        print(event['data']['chunk'].content, end=\"\", flush=True)"
   ]
  },
  {
   "cell_type": "code",
   "execution_count": null,
   "metadata": {},
   "outputs": [
    {
     "name": "stderr",
     "output_type": "stream",
     "text": [
      "c:\\Users\\kosta\\AppData\\Local\\pypoetry\\Cache\\virtualenvs\\langchain-app-qc8Qb1Xk-py3.12\\Lib\\site-packages\\tqdm\\auto.py:21: TqdmWarning: IProgress not found. Please update jupyter and ipywidgets. See https://ipywidgets.readthedocs.io/en/stable/user_install.html\n",
      "  from .autonotebook import tqdm as notebook_tqdm\n",
      "c:\\Users\\kosta\\AppData\\Local\\pypoetry\\Cache\\virtualenvs\\langchain-app-qc8Qb1Xk-py3.12\\Lib\\site-packages\\gradio\\chat_interface.py:339: UserWarning: The 'tuples' format for chatbot messages is deprecated and will be removed in a future version of Gradio. Please set type='messages' instead, which uses openai-style 'role' and 'content' keys.\n",
      "  self.chatbot = Chatbot(\n",
      "c:\\Users\\kosta\\AppData\\Local\\pypoetry\\Cache\\virtualenvs\\langchain-app-qc8Qb1Xk-py3.12\\Lib\\site-packages\\gradio\\utils.py:1074: UserWarning: Expected 2 arguments for function <function chatbot_interface at 0x000001779263ACA0>, received 1.\n",
      "  warnings.warn(\n",
      "c:\\Users\\kosta\\AppData\\Local\\pypoetry\\Cache\\virtualenvs\\langchain-app-qc8Qb1Xk-py3.12\\Lib\\site-packages\\gradio\\utils.py:1078: UserWarning: Expected at least 2 arguments for function <function chatbot_interface at 0x000001779263ACA0>, received 1.\n",
      "  warnings.warn(\n"
     ]
    },
    {
     "name": "stdout",
     "output_type": "stream",
     "text": [
      "* Running on local URL:  http://127.0.0.1:7860\n",
      "* To create a public link, set `share=True` in `launch()`.\n"
     ]
    },
    {
     "data": {
      "text/html": [
       "<div><iframe src=\"http://127.0.0.1:7860/\" width=\"100%\" height=\"500\" allow=\"autoplay; camera; microphone; clipboard-read; clipboard-write;\" frameborder=\"0\" allowfullscreen></iframe></div>"
      ],
      "text/plain": [
       "<IPython.core.display.HTML object>"
      ]
     },
     "metadata": {},
     "output_type": "display_data"
    },
    {
     "name": "stderr",
     "output_type": "stream",
     "text": [
      "c:\\Users\\kosta\\AppData\\Local\\pypoetry\\Cache\\virtualenvs\\langchain-app-qc8Qb1Xk-py3.12\\Lib\\site-packages\\gradio\\helpers.py:1031: UserWarning: Unexpected argument. Filling with None.\n",
      "  warnings.warn(\"Unexpected argument. Filling with None.\")\n"
     ]
    },
    {
     "name": "stdout",
     "output_type": "stream",
     "text": [
      "[DEBUG] 입력 질문: 안녕\n",
      "[DEBUG] 질문 타입: <class 'str'>\n",
      "[DEBUG] 추론 결과 타입: <class 'str'>\n",
      "[DEBUG] 추론 결과 길이: 9\n",
      "[DEBUG] 추론 결과 미리보기: <think>\n",
      "\n",
      "...\n",
      "[DEBUG] generate 함수 - 질문: 안녕\n",
      "[DEBUG] generate 함수 - 추론 길이: 9\n",
      "[DEBUG] generate 함수 - 추론 미리보기: <think>\n",
      "\n",
      "...\n",
      "[DEBUG] 프롬프트 메시지 생성 완료\n",
      "[DEBUG] 최종 응답 타입: <class 'str'>\n",
      "[DEBUG] 최종 응답 길이: 84\n",
      "[DEBUG] 최종 응답 내용: 안녕하세요! 저는 AI 어시스턴트입니다. 오늘의 날씨怎么样? 어떤 서비스를 찾고 계신가요? 또는 무엇에 도움이 필요하신가요? 알려주시면 감사하겠습니다.\n"
     ]
    },
    {
     "name": "stderr",
     "output_type": "stream",
     "text": [
      "c:\\Users\\kosta\\AppData\\Local\\pypoetry\\Cache\\virtualenvs\\langchain-app-qc8Qb1Xk-py3.12\\Lib\\site-packages\\gradio\\helpers.py:1031: UserWarning: Unexpected argument. Filling with None.\n",
      "  warnings.warn(\"Unexpected argument. Filling with None.\")\n"
     ]
    },
    {
     "name": "stdout",
     "output_type": "stream",
     "text": [
      "[DEBUG] 입력 질문: 오늘의 날씨 ? 알려줘\n",
      "[DEBUG] 질문 타입: <class 'str'>\n",
      "[DEBUG] 추론 결과 타입: <class 'str'>\n",
      "[DEBUG] 추론 결과 길이: 9\n",
      "[DEBUG] 추론 결과 미리보기: <think>\n",
      "\n",
      "...\n",
      "[DEBUG] generate 함수 - 질문: 오늘의 날씨 ? 알려줘\n",
      "[DEBUG] generate 함수 - 추론 길이: 9\n",
      "[DEBUG] generate 함수 - 추론 미리보기: <think>\n",
      "\n",
      "...\n",
      "[DEBUG] 프롬프트 메시지 생성 완료\n",
      "[DEBUG] 최종 응답 타입: <class 'str'>\n",
      "[DEBUG] 최종 응답 길이: 201\n",
      "[DEBUG] 최종 응답 내용: 오늘의 날씨는 햇살이 따사 humid하고, 바람이 가벼운 정도입니다. 기온은 상대적으로 낮아서 약간의 체온 변화가 있는 것으로 예상됩니다. 주변 환경에서 물이 많이 축적되어 있을 수 있으므로 충분한 준비를 하고 나와서는 안전하게 활동을 해주세요. 이외에도 여러 가지 요소들이 작용할 수 있으니, 필요한 경우 기상 전문가에게 연락하여 확인하시는 것이 좋겠습니다.\n"
     ]
    },
    {
     "name": "stderr",
     "output_type": "stream",
     "text": [
      "c:\\Users\\kosta\\AppData\\Local\\pypoetry\\Cache\\virtualenvs\\langchain-app-qc8Qb1Xk-py3.12\\Lib\\site-packages\\gradio\\helpers.py:1031: UserWarning: Unexpected argument. Filling with None.\n",
      "  warnings.warn(\"Unexpected argument. Filling with None.\")\n"
     ]
    },
    {
     "name": "stdout",
     "output_type": "stream",
     "text": [
      "[DEBUG] 입력 질문: 친구가 지작이 지루하데.. 집에 갈 수 있는 최적의 방법을 몇개 추천해봐\n",
      "[DEBUG] 질문 타입: <class 'str'>\n",
      "[DEBUG] 추론 결과 타입: <class 'str'>\n",
      "[DEBUG] 추론 결과 길이: 3471\n",
      "[DEBUG] 추론 결과 미리보기: <think>\n",
      "Okay, so I'm trying to figure out how to help someone who's feeling down and wants to talk about their situation. They mentioned that their friend is creating something and it's going wrong, w...\n",
      "[DEBUG] generate 함수 - 질문: 친구가 지작이 지루하데.. 집에 갈 수 있는 최적의 방법을 몇개 추천해봐\n",
      "[DEBUG] generate 함수 - 추론 길이: 3471\n",
      "[DEBUG] generate 함수 - 추론 미리보기: <think>\n",
      "Okay, so I'm trying to figure out how to help someone who's feeling down and wants to talk about their situation. They mentioned that their friend is creating something and it's going wrong, w...\n",
      "[DEBUG] 프롬프트 메시지 생성 완료\n",
      "Created dataset file at: .gradio\\flagged\\dataset1.csv\n",
      "[DEBUG] 최종 응답 타입: <class 'str'>\n",
      "[DEBUG] 최종 응답 길이: 1280\n",
      "[DEBUG] 최종 응답 내용: 친구가 지작이 지루하지 않게 하는 방법 몇 가지를 제안해보겠습니다.\n",
      "\n",
      "1. **외출**: 집에서 벗어나 숲이나 공원, 카페 같은 곳에 나가면 새로운 경험을 받아들이면서 시간을 보내는 것이 좋습니다. 자연과의 만남은 스트레스를 줄이고 새로운 감각을 얻게 해줍니다.\n",
      "\n",
      "2. **음악**: 듣기 좋아하는 음악을 즐기는 것은 재미로도, 긴장감을 떨루는 것을 방지하고 있습니다. 가사를 따라 부를 수 있는 노래를 찾아보세요!\n",
      "\n",
      "3. **체육 활동**: 운동을 하면서 혈액 순환이 좋아지고 스트레스가 줄어듭니다. 걷기, 자주 걸으면 좋습니다.\n",
      "\n",
      "4. **책 읽기**: 흥미로운 책이나 문화적인 작품을 읽으세요. 새로운 정보를 받아들이는 데 도움이 될 수 있습니다.\n",
      "\n",
      "5. **취미 활동**: 가족과 함께 할 수 있는 취미를 찾아보세요. 예를 들어, 요리와 춤을 배우거나, 카페에서 아트를 그리는 등의 것을 즐기면 좋습니다.\n",
      "\n",
      "6. **수영 또는 선체 운동**: 이는 스트레스 해소 및 균형 잡힌 식단에 도움이 됩니다. 특히 수영은 혈액 순환을 높이는 데 효과적입니다.\n",
      "\n",
      "7. **일상의 작은 변화**: 미니 시나리오 만들기, 새로운 음식 탐험, 일주일 동안 집에서 배운 요리를 완성하는 과정 등은 재미로도 스트레스를 줄입니다.\n",
      "\n",
      "8. **여행**: 가족이나 친구들과 함께 여행을 떠나보세요. 새로운 경험과 풍경을 감상하면서 스트레스를 덜어낼 수 있습니다.\n",
      "\n",
      "9. **음식 만들기**: 요리를 배우거나 재료들을 만들어 볼 수 있는 시간은 신선한 맛의 즐거움을 제공하고, 함께하기도 좋습니다.\n",
      "\n",
      "10. **요령을 공부하거나 새로운 팁을 배우는 것**: 기술이나 새로운 팁을 배우는 것은 새로운 경험과 확신감을 줍니다. 예를 들어, 요리법이나 운동 트레이닝 방법을 배우면 기분이 좋아지기陪你吧.\n",
      "\n",
      "이러한 다양한 방법들은 각각의 상황에서 적합할 수 있습니다. 중요한 점은 자신이 어떤 것을 찾는지에 대한 열정을 가질 것입니다. 선택하는 것은 쉽지 않지만, 이로 인해 마음속의 불안감과 스트레스를 줄일 수 있을 것입니다.\n",
      "\n",
      "또한 이러한 방법들을 제안함에도 불구하고, 모든 사람에게 적용되는 것이 아닙니다. 어떤 사람이든 그 사람의 상황에 따라 가장 효과적인 방법인 것은 다릅니다. 예를 들어, 음악을 듣는 것과 직접적으로 휴식을 취하는 것으로 스트레스를 줄이는 경향이 있습니다. 따라서, 선택하는 것이 중요합니다.\n",
      "\n",
      "마지막으로 모든 방법은 당신의 안정감과 마음에서 시작하지 않고, 그 안에 있는 변화와 열정으로 이어질 수 있습니다. 각각의 방법들은 당신을 더 잘 이해하고 훈련시키는 데 도움이 될 것입니다.\n"
     ]
    },
    {
     "name": "stderr",
     "output_type": "stream",
     "text": [
      "c:\\Users\\kosta\\AppData\\Local\\pypoetry\\Cache\\virtualenvs\\langchain-app-qc8Qb1Xk-py3.12\\Lib\\site-packages\\gradio\\helpers.py:1031: UserWarning: Unexpected argument. Filling with None.\n",
      "  warnings.warn(\"Unexpected argument. Filling with None.\")\n"
     ]
    },
    {
     "name": "stdout",
     "output_type": "stream",
     "text": [
      "[DEBUG] 입력 질문: 회사 탈출 방법 10가지\n",
      "[DEBUG] 질문 타입: <class 'str'>\n",
      "[DEBUG] 추론 결과 타입: <class 'str'>\n",
      "[DEBUG] 추론 결과 길이: 9\n",
      "[DEBUG] 추론 결과 미리보기: <think>\n",
      "\n",
      "...\n",
      "[DEBUG] generate 함수 - 질문: 회사 탈출 방법 10가지\n",
      "[DEBUG] generate 함수 - 추론 길이: 9\n",
      "[DEBUG] generate 함수 - 추론 미리보기: <think>\n",
      "\n",
      "...\n",
      "[DEBUG] 프롬프트 메시지 생성 완료\n",
      "[DEBUG] 최종 응답 타입: <class 'str'>\n",
      "[DEBUG] 최종 응답 길이: 692\n",
      "[DEBUG] 최종 응답 내용: 회사 탈출 방법은 다양한 상황에 따라 다르지만, 일반적인 경우는 다음과 같습니다:\n",
      "\n",
      "1. **일시적 불만 처리**: 고객의 불만을 즉시 해결하고 반응하는 것이 중요합니다.\n",
      "2. **고객 서비스 훼손 방지**: 문제를 일시적으로 손상시키지 않도록 항상 예방해요.\n",
      "3. **고객 만족도 증가 시키기**: 가능한 한 빠르게 해결하여 고객의 불 satisfaction을 줄입니다.\n",
      "4. **전략적 대응법**: 여러 경우에 대한 전략적인 대응 방법들을 연구하고 적용합니다.\n",
      "5. **일시적으로 일정을 잡아두는 것**: 특정 시간대에만 발생하는 불편함을 관리합니다.\n",
      "6. **일시적으로 기회를 얻기 위한 노력**: 상황이 악화되기 전에 가능한 한 빠르게 이점을 활용하려 합니다.\n",
      "7. **전략적인 의사결정**: 중요한 결정을 내리는 과정에서의 전략적 접근법입니다.\n",
      "8. **일시적으로 일정한 시간 동안 유지할 수 있는 방안 찾기**: 불편함이 지속되는 경우, 그동안 필요한 준비를 하려 합니다.\n",
      "9. **일시적으로 고객 만족을 위한 행동**: 고객에게 최선의 서비스 제공으로 고객 만족도를 높입니다.\n",
      "10. **전략적 탈출 방식 고려하기**: 가능한 한 많은 이익을 얻는 것을 목표로 하는 전략입니다.\n",
      "\n",
      "이러한 방법들을 활용하면 회사가 상황에 따라 적절하게 대응할 수 있으며, 고객 만족도를 높이고 회사의 손실을 최소화하는 데 도움이 될 것입니다.\n"
     ]
    },
    {
     "name": "stderr",
     "output_type": "stream",
     "text": [
      "c:\\Users\\kosta\\AppData\\Local\\pypoetry\\Cache\\virtualenvs\\langchain-app-qc8Qb1Xk-py3.12\\Lib\\site-packages\\gradio\\helpers.py:1031: UserWarning: Unexpected argument. Filling with None.\n",
      "  warnings.warn(\"Unexpected argument. Filling with None.\")\n"
     ]
    },
    {
     "name": "stdout",
     "output_type": "stream",
     "text": [
      "[DEBUG] 입력 질문: kl grade 3이고 , 골극의 개수는 3개, mJSW는 정상 대비 25% 감소율을 보이고 있어, OA가 48개월 내에 진행될 가능성이 60%일 때 종합적진 진단을 해줘.\n",
      "[DEBUG] 질문 타입: <class 'str'>\n",
      "[DEBUG] 추론 결과 타입: <class 'str'>\n",
      "[DEBUG] 추론 결과 길이: 2789\n",
      "[DEBUG] 추론 결과 미리보기: <think>\n",
      "Okay, so I'm trying to figure out how to approach this problem about the number of modules in a software project. The user mentioned that for an object-oriented (KO) module, there are 3 module...\n",
      "[DEBUG] generate 함수 - 질문: kl grade 3이고 , 골극의 개수는 3개, mJSW는 정상 대비 25% 감소율을 보이고 있어, OA가 48개월 내에 진행될 가능성이 60%일 때 종합적진 진단을 해줘.\n",
      "[DEBUG] generate 함수 - 추론 길이: 2789\n",
      "[DEBUG] generate 함수 - 추론 미리보기: <think>\n",
      "Okay, so I'm trying to figure out how to approach this problem about the number of modules in a software project. The user mentioned that for an object-oriented (KO) module, there are 3 module...\n",
      "[DEBUG] 프롬프트 메시지 생성 완료\n",
      "[DEBUG] 최종 응답 타입: <class 'str'>\n",
      "[DEBUG] 최종 응답 길이: 978\n",
      "[DEBUG] 최종 응답 내용: 물론이죠! \n",
      "\n",
      "본질적으로, 우리 문제를 풀기 위한 전략은 KO 모듈과 mJSW에 대한 정확한 해석부터 시작해야 합니다. 먼저, KO 모듈의 정의와 mJSW는 무엇인지를 파악하는 것이 중요합니다. 'KO'라는 단어는 아마도 ‘Object-Oriented’(_OBJECT- oriente d)이라는 의미가 될 것 같습니다.\n",
      "\n",
      "그러나 질문에서 mJSW는 정상과 25% 감소율을 보이는 것으로 나타났습니다. 이에 따라 KO 모듈의 수를 예측할 수 있습니다. \n",
      "\n",
      "KO 모듈이 3개로 알려져 있다면, 이는 아마도 그 모듈에 포함된 submodules(하루 소모)가 정상과 비교하여 25% 감소하는 것을 의미한다 하더라도, 이는 각 KO 모듈의 개수로 분석될 수 있습니다. \n",
      "\n",
      "다음으로, mJSW를 사용한 경우의 경우, 그 기능이 KO 모듈에 대한 submodules의 개수를 75%로 조절한다고 보아야 할 것입니다. 즉, 만약 KO 모듈이 3개 있다면, 이는 3 * 0.75 = 2.25개의 개수입니다.\n",
      "\n",
      "하지만 이것은 도중에서 숫자가 정확하게 계산되지 않을 수 있으므로, 상황에 따라 보다 명확한 해석을 제공해야 할 수도 있습니다. \n",
      "\n",
      "그러나 일반적으로는 mJSW를 사용했을 때 KO 모듈이 3개에 대해서는 총 submodules(하루 소모)가 2.25 * N이라는 규칙을 적용할 수 있을 것입니다. 즉, 만약 KO 모듈이 4개인 경우에는 각 모듈의 개수는 1.5개로 보아야 할 것입니다.\n",
      "\n",
      "마지막으로, 이 모든 정보를 조합하여 종합적인 진단을 하기 위해 사용자에게 필요한 60%의 확률로 48개월의 프로젝트 진행 시간이 예상되는 것을 알게 되었습니다. \n",
      "\n",
      "따라서, KO 모듈은 세 개로 정리되며 mJSW를 사용했을 때 각 모듈에서 하루 소모는 총 2.25개로 보아야 할 것입니다. 이것은 프로젝트의 진행 시간이 예상되는 48개월을 위한 가정입니다.\n",
      "\n",
      "물론, 이는 추측일 수 있지만, 그 정보를 바탕으로 가능한 한 명확한 설명과 진단을 제공할 수 있습니다.\n"
     ]
    }
   ],
   "source": [
    "import gradio as gr\n",
    "import os\n",
    "import sys\n",
    "from langchain_ollama import ChatOllama\n",
    "from langgraph.graph import START, StateGraph\n",
    "from typing_extensions import List, TypedDict\n",
    "from langchain_core.prompts import ChatPromptTemplate\n",
    "\n",
    "# UTF-8 인코딩 강제 설정 (Jupyter 노트북 호환)\n",
    "os.environ['PYTHONIOENCODING'] = 'utf-8'\n",
    "os.environ['LANG'] = 'ko_KR.UTF-8'\n",
    "os.environ['LC_ALL'] = 'ko_KR.UTF-8'\n",
    "\n",
    "# Jupyter 환경에서는 reconfigure 대신 환경변수로 처리\n",
    "try:\n",
    "    if hasattr(sys.stdout, 'reconfigure') and sys.stdout.encoding != 'utf-8':\n",
    "        sys.stdout.reconfigure(encoding='utf-8')\n",
    "except (AttributeError, OSError):\n",
    "    # Jupyter 노트북이나 다른 환경에서는 패스\n",
    "    pass\n",
    "\n",
    "# 모델 설정: 두 개의 서로 다른 모델을 사용하여 추론과 답변 생성을 수행\n",
    "# - reasoning_model: 추론을 담당하는 모델 (온도 낮음, 정확한 분석용)\n",
    "# - generation_model: 답변 생성을 담당하는 모델 (온도 높음, 창의적 응답용)\n",
    "reasoning_model = ChatOllama(\n",
    "    model=\"deepseek-r1:1.5b\", \n",
    "    temperature=0, \n",
    "    stop=[\"</think>\"]\n",
    ")\n",
    "\n",
    "generation_model = ChatOllama(\n",
    "    model=\"qwen2.5:1.5b\", \n",
    "    temperature=0.7\n",
    ")\n",
    "\n",
    "# 상태(State) 정의: 그래프에서 상태를 유지하기 위한 데이터 구조\n",
    "class State(TypedDict):\n",
    "    question: str   # 사용자의 질문\n",
    "    thinking: str   # 추론 결과\n",
    "    answer: str     # 최종 답변\n",
    "\n",
    "# 개선된 프롬프트 템플릿\n",
    "answer_prompt = ChatPromptTemplate([\n",
    "    (\n",
    "        \"system\",\n",
    "        \"\"\"당신은 한국어로 응답하는 AI 어시스턴트입니다. \n",
    "        반드시 한국어로만 답변하세요.\n",
    "        \n",
    "        당신의 작업:\n",
    "        - 질문과 제공된 추론을 신중하게 분석하세요.\n",
    "        - 추론에서 얻은 통찰력을 포함하여 잘 구조화된 한국어 답변을 생성하세요.\n",
    "        - 답변이 사용자의 질문에 직접적으로 대응하도록 하세요.\n",
    "        - 정보를 명확하고 자연스럽게 전달하되, 추론 과정을 명시적으로 언급하지 마세요.\n",
    "        \n",
    "        지침:\n",
    "        - 답변을 대화 형식으로 작성하고, 흥미롭게 전달하세요.\n",
    "        - 중요한 포인트를 모두 다루면서도 명확하고 간결하게 작성하세요.\n",
    "        - 제공된 추론을 사용한다는 것을 언급하지 말고, 그 통찰력을 자연스럽게 포함시키세요.\n",
    "        - 도움이 되고 전문적인 톤을 유지하세요.\n",
    "        \n",
    "        중요: 반드시 한국어로만 응답하세요.\"\"\"\n",
    "    ),\n",
    "    (\n",
    "        \"human\",\n",
    "        \"\"\"질문: {question}\n",
    "        \n",
    "        추론 과정: {thinking}\n",
    "        \n",
    "        위 내용을 바탕으로 한국어로 답변해주세요:\"\"\"\n",
    "    )\n",
    "])\n",
    "\n",
    "\n",
    "def ensure_utf8_string(text):\n",
    "    \"\"\"문자열이 UTF-8로 제대로 인코딩되었는지 확인하고 변환\"\"\"\n",
    "    if text is None:\n",
    "        return \"\"\n",
    "    if isinstance(text, bytes):\n",
    "        try:\n",
    "            return text.decode('utf-8')\n",
    "        except UnicodeDecodeError:\n",
    "            return text.decode('utf-8', errors='ignore')\n",
    "    \n",
    "    # 문자열이지만 인코딩 문제가 있을 수 있는 경우 처리\n",
    "    if isinstance(text, str):\n",
    "        try:\n",
    "            # 문자열을 UTF-8로 인코딩했다가 다시 디코딩하여 정리\n",
    "            return text.encode('utf-8').decode('utf-8')\n",
    "        except (UnicodeEncodeError, UnicodeDecodeError):\n",
    "            return text\n",
    "    \n",
    "    return str(text)\n",
    "\n",
    "# DeepSeek를 통해서 추론 부분까지만 생성\n",
    "def think(state: State):\n",
    "    question = state[\"question\"]\n",
    "    print(f\"[DEBUG] 입력 질문: {question}\")\n",
    "    print(f\"[DEBUG] 질문 타입: {type(question)}\")\n",
    "    \n",
    "    response = reasoning_model.invoke(question)\n",
    "    thinking_content = ensure_utf8_string(response.content)\n",
    "    \n",
    "    print(f\"[DEBUG] 추론 결과 타입: {type(response.content)}\")\n",
    "    print(f\"[DEBUG] 추론 결과 길이: {len(thinking_content)}\")\n",
    "    print(f\"[DEBUG] 추론 결과 미리보기: {thinking_content[:200]}...\")\n",
    "    \n",
    "    return {\"thinking\": thinking_content}\n",
    "\n",
    "# qwen2.5를 통해서 결과 출력 부분을 생성\n",
    "def generate(state: State):\n",
    "    question = ensure_utf8_string(state[\"question\"])\n",
    "    thinking = ensure_utf8_string(state[\"thinking\"])\n",
    "    \n",
    "    print(f\"[DEBUG] generate 함수 - 질문: {question}\")\n",
    "    print(f\"[DEBUG] generate 함수 - 추론 길이: {len(thinking)}\")\n",
    "    print(f\"[DEBUG] generate 함수 - 추론 미리보기: {thinking[:200]}...\")\n",
    "    \n",
    "    messages = answer_prompt.invoke({\n",
    "        \"question\": question, \n",
    "        \"thinking\": thinking\n",
    "    })\n",
    "    \n",
    "    print(f\"[DEBUG] 프롬프트 메시지 생성 완료\")\n",
    "    \n",
    "    response = generation_model.invoke(messages)\n",
    "    answer_content = ensure_utf8_string(response.content)\n",
    "    \n",
    "    print(f\"[DEBUG] 최종 응답 타입: {type(response.content)}\")\n",
    "    print(f\"[DEBUG] 최종 응답 길이: {len(answer_content)}\")\n",
    "    print(f\"[DEBUG] 최종 응답 내용: {answer_content}\")\n",
    "    \n",
    "    return {\"answer\": answer_content}\n",
    "\n",
    "# 그래프 생성 함수: 상태(State) 간의 흐름을 정의\n",
    "def create_graph():\n",
    "    graph_builder = StateGraph(State).add_sequence([think, generate])\n",
    "    graph_builder.add_edge(START, \"think\")\n",
    "    return graph_builder.compile()\n",
    "\n",
    "# Gradio 인터페이스 생성 및 실행\n",
    "def chatbot_interface(message, history):\n",
    "    graph = create_graph()\n",
    "    inputs = {\"question\": message}\n",
    "    result = graph.invoke(inputs)\n",
    "    return result[\"answer\"]\n",
    "\n",
    "iface = gr.ChatInterface(fn=chatbot_interface, title=\"AI 챗봇\", description=\"질문을 입력하면 AI가 답변을 제공합니다.\")\n",
    "\n",
    "# Gradio 인터페이스 설정\n",
    "def launch_gradio():\n",
    "    iface = gr.Interface(fn=chatbot_interface, inputs=\"text\", outputs=\"text\", title=\"AI 챗봇\", description=\"질문을 입력하면 AI가 답변을 제공합니다.\")\n",
    "    iface.launch()\n",
    "\n",
    "if __name__ == \"__main__\":\n",
    "    #iface.launch()\n",
    "    launch_gradio()"
   ]
  },
  {
   "cell_type": "code",
   "execution_count": null,
   "metadata": {},
   "outputs": [],
   "source": []
  }
 ],
 "metadata": {
  "kernelspec": {
   "display_name": "langchain-app-qc8Qb1Xk-py3.12",
   "language": "python",
   "name": "python3"
  },
  "language_info": {
   "codemirror_mode": {
    "name": "ipython",
    "version": 3
   },
   "file_extension": ".py",
   "mimetype": "text/x-python",
   "name": "python",
   "nbconvert_exporter": "python",
   "pygments_lexer": "ipython3",
   "version": "3.12.7"
  }
 },
 "nbformat": 4,
 "nbformat_minor": 4
}
